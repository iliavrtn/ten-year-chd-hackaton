{
 "cells": [
  {
   "cell_type": "code",
   "execution_count": 1,
   "outputs": [],
   "source": [
    "from framingham_score import *\n",
    "from sklearn.impute import KNNImputer\n",
    "import pandas as pd\n",
    "import numpy as np\n",
    "import os"
   ],
   "metadata": {
    "collapsed": false
   }
  },
  {
   "cell_type": "code",
   "execution_count": 2,
   "outputs": [],
   "source": [
    "def preprocess_data(df, handle_missings='median'):\n",
    "    categorical_columns = ['is_smoking', \"BPMeds\", 'prevalentStroke', 'prevalentHyp', 'diabetes', 'sex', 'education']\n",
    "    df.loc[df['is_smoking'] == \"YES\", 'is_smoking'] = 1\n",
    "    df.loc[df['is_smoking'] == \"NO\", 'is_smoking'] = 0\n",
    "    df.loc[df['sex'] == \"M\", 'sex'] = 1\n",
    "    df.loc[df['sex'] == \"F\", 'sex'] = 0\n",
    "    df[\"is_smoking\"] = df[\"is_smoking\"].astype(int)\n",
    "    df[\"sex\"] = df[\"sex\"].astype(int)\n",
    "\n",
    "    if handle_missings == 'median':\n",
    "        for col in df.columns:\n",
    "            if col not in categorical_columns:\n",
    "                mean_col = df[col].median()\n",
    "                df[col] = df[col].fillna(mean_col)\n",
    "            else:\n",
    "                mean_col = np.argmax(df[col])\n",
    "                df[col] = df[col].fillna(mean_col)\n",
    "    elif handle_missings == 'knn':\n",
    "        for col in df.columns:\n",
    "            if col not in categorical_columns:\n",
    "                mean_col = df[col].median()\n",
    "                df[col] = df[col].fillna(mean_col)\n",
    "\n",
    "        imputator = KNNImputer(n_neighbors=5)\n",
    "        df = pd.DataFrame(imputator.fit_transform(df), columns=df.columns)\n",
    "\n",
    "    # Column to see if patient was in Hypertension during the sampling.\n",
    "    df.insert(len(df.columns) - 1, 'isHyp', value=0)\n",
    "    df.loc[(df['sysBP'] >= 130) | (df['diaBP'] >= 80), 'isHyp'] = 1\n",
    "\n",
    "    # creating categorical column for packs of cigarettes.\n",
    "    df.insert(len(df.columns) - 1, 'packsOfCigs', value=0)\n",
    "    df.loc[df['cigsPerDay'] > 0, 'packsOfCigs'] = 1\n",
    "    df.loc[df['cigsPerDay'] >= 10, 'packsOfCigs'] = 2\n",
    "    df.loc[df['cigsPerDay'] >= 20, 'packsOfCigs'] = 3\n",
    "    df.loc[df['cigsPerDay'] >= 30, 'packsOfCigs'] = 4\n",
    "\n",
    "    # creating categorical column for glucose levels.\n",
    "    df.insert(len(df.columns) - 1, 'glucose_level', value=0)\n",
    "    df.loc[df['glucose'] > 2.6 * 18, 'glucose_level'] = 1\n",
    "    df.loc[df['glucose'] > 4.7 * 18, 'glucose_level'] = 2\n",
    "    df.loc[df['glucose'] > 6.3 * 18, 'glucose_level'] = 3\n",
    "    df.loc[df['glucose'] > 8.5 * 18, 'glucose_level'] = 4\n",
    "\n",
    "    # Score2 diabetes score (Framingham Risk Score)\n",
    "    df.insert(len(df.columns) - 1, 'diabetes_score2', value=0)\n",
    "    df['diabetes_score2'] = df.apply(lambda x: calculate_framingham_score(\n",
    "        x['age'], x['sex'], x['is_smoking'], x['cigsPerDay'], x['BPMeds'], x['prevalentStroke'], x['prevalentHyp'],\n",
    "        x['diabetes'],\n",
    "        x['totChol'], x['sysBP'], x['diaBP'], x['BMI'], x['heartRate'], x['glucose'], x['education']), axis=1)\n",
    "\n",
    "    return df.set_index('id')\n",
    "\n",
    "\n",
    "def remove_outliers_iqr(df, columns, threshold=1.5):\n",
    "    # Calculate the IQR for each column\n",
    "    Q1 = df[columns].quantile(0.25)\n",
    "    Q3 = df[columns].quantile(0.75)\n",
    "    IQR = Q3 - Q1\n",
    "\n",
    "    # Define lower and upper bounds to identify outliers\n",
    "    lower_bound = Q1 - threshold * IQR\n",
    "    upper_bound = Q3 + threshold * IQR\n",
    "\n",
    "    # Filter rows without outliers\n",
    "    mask = ~((df[columns] < lower_bound) | (df[columns] > upper_bound)).any(axis=1)\n",
    "    return df[mask]\n",
    "\n",
    "\n",
    "# Load Data\n",
    "data_dir = r\"C:\\Users\\soldier109\\PycharmProjects\\Moshal Medicine Hackaton 2023\\Datasets\\Cardiovascular Study Dataset\"\n",
    "trainset = preprocess_data(pd.read_csv(data_dir + \"\\\\train.csv\"), handle_missings='median')"
   ],
   "metadata": {
    "collapsed": false
   }
  },
  {
   "cell_type": "code",
   "execution_count": null,
   "outputs": [
    {
     "name": "stderr",
     "output_type": "stream",
     "text": [
      "  0%|          | 0/2 [00:00<?, ?it/s]"
     ]
    },
    {
     "name": "stdout",
     "output_type": "stream",
     "text": [
      "#### Model: rf\tSpecs: 100\tSample number: 1/3 ####\n",
      "rf tables saved.\n",
      "\n",
      "### Starting the RANDOM FOREST iterative approach ###\n",
      "time limit: 1200\n",
      "\n",
      "\n",
      "------------------------ Iteration: 0 ------------------------\n",
      "Optimizing the master problem...\n",
      "solution master [0.8421052631578947, 0.3333333333333333, 0.0, 1.0, 0.04285714285714286, 0.0, 0.0, 0.0, 0.0, 0.1935483870967742, 0.31324876976964333, 0.38624338805675507, 0.23065621939275222, 0.4591836734693877, 0.23306084556338647, 1.0, 0.25, 0.25, 1.0000099105930076] generated in  43.8 s\n",
      "--> Distance to the factual instance: 0.13365164011409586\n",
      "--> Distance to the border: 0.0\n",
      "Optimizing the adversarial problem...\n",
      "Set parameter Username\n",
      "Academic license - for non-commercial use only - expires 2024-08-31\n",
      "Set parameter PoolSearchMode to value 1\n",
      "Status: optimal\n",
      "solution adv problem [0.8421052631578947, 0.3333333333333333, 0.0, 1.0, 0.06783666060294316, 0.0, 0.0, 0.0, 0.0, 0.2098328763628813, 0.3049696034261935, 0.35889293308917614, 0.2460830212340823, 0.459122804853629, 0.20973584926678976, 1.0, 0.2500054018966272, 0.25000366643265653, 0.9964566820513528] generated in  178.6 s\n",
      "Status adversarial problem: True\n",
      "\n",
      "\n",
      "------------------------ Iteration: 1 ------------------------\n",
      "Optimizing the master problem...\n",
      "master_model is None -- MP not solved within time limit\n",
      "### Iterative approach completed in 2077.5 s ###\n",
      "\n"
     ]
    },
    {
     "name": "stderr",
     "output_type": "stream",
     "text": [
      " 50%|█████     | 1/2 [55:43<55:43, 3343.22s/it]"
     ]
    },
    {
     "name": "stdout",
     "output_type": "stream",
     "text": [
      "1e-05\n",
      "\n",
      "\n",
      "@@@@@@@@@@@@@@@@@@@@@@@@@@@@@@@@@@@@@@@@@@@@@@@@@@@@@@@@@@@@@@@@@@@ ERROR @@@@@@@@@@@@@@@@@@@@@@@@@@@@@@@@@@@@@@@@@@@@@@@@@@@@@@@@@@@@@@@@@@@\n",
      "\n",
      "\n",
      "#### Model: gbm\tSpecs: 100\tSample number: 1/3 ####\n",
      "gbm tables saved.\n",
      "\n",
      "### Starting the GRADIENT BOOSTING iterative approach ###\n",
      "time limit: 1200\n",
      "\n",
      "\n",
      "------------------------ Iteration: 0 ------------------------\n",
      "Optimizing the master problem...\n",
      "solution master [0.8421052631578947, 0.3333333333333333, 0.0, 1.0, 0.04285714285714286, 0.0, 0.0, 0.0, 0.0, 0.18590832501649857, 0.3049645390070922, 0.38624338805675507, 0.22869735956192017, 0.45408162474632263, 0.11016949266195297, 1.0, 0.25, 0.25000000000000006, 0.9999990463256836] generated in  37.2 s\n",
      "--> Distance to the factual instance: 0.02281683173234112\n"
     ]
    }
   ],
   "source": [
    "from run_ce_optimization import *\n",
    "immutable_features = ['sex', 'age', 'education']\n",
    "positive_features = [\"cigsPerDay\",\"totChol\",'sysBP','diaBP','BMI','heartRate','glucose',\"packsOfCigs\",'glucose_level']\n",
    "binary_features = ['is_smoking', \"BPMeds\",'prevalentStroke','prevalentHyp','diabetes','isHyp']\n",
    "integers_features = []\n",
    "larger_than_features = []\n",
    "exclude = []\n",
    "# exclude = ['rf']\n",
    "norm = \"l2\"\n",
    "target_column = 'TenYearCHD'\n",
    "res, sol = run_experiment(trainset, target_column, dataset_name=\"CHD_prediction_\"+norm, norm=norm,\n",
    "                          exclude_models=exclude,\n",
    "                          immutable_features=immutable_features,\n",
    "                          positive_features=positive_features,\n",
    "                          binary_features=binary_features, integers_features=integers_features,\n",
    "                          larger_than_features=larger_than_features,\n",
    "                          num_instances=3, time_limit=120, rho=0.05, trees_max_depth=, trees_n_est=)"
   ],
   "metadata": {
    "collapsed": false
   }
  },
  {
   "cell_type": "code",
   "execution_count": null,
   "outputs": [],
   "source": [
    "df_output_path = r\"C:\\Users\\soldier109\\PycharmProjects\\Moshal Medicine Hackaton 2023\\results_CHD_prediction_\"+ norm + r\"\\df outputs\"\n",
    "os.makedirs(df_output_path, exist_ok=True)\n",
    "sol.to_csv(df_output_path+ \"\\\\sol.csv\", index=False)\n",
    "res.to_csv(df_output_path + \"\\\\res.csv\", index=False)"
   ],
   "metadata": {
    "collapsed": false
   }
  }
 ],
 "metadata": {
  "kernelspec": {
   "display_name": "Python 3",
   "language": "python",
   "name": "python3"
  },
  "language_info": {
   "codemirror_mode": {
    "name": "ipython",
    "version": 2
   },
   "file_extension": ".py",
   "mimetype": "text/x-python",
   "name": "python",
   "nbconvert_exporter": "python",
   "pygments_lexer": "ipython2",
   "version": "2.7.6"
  }
 },
 "nbformat": 4,
 "nbformat_minor": 0
}
